{
 "cells": [
  {
   "cell_type": "code",
   "execution_count": null,
   "id": "f7d5c243-8f05-4b98-a001-d49250c8129d",
   "metadata": {},
   "outputs": [],
   "source": [
    "import pandas as pd \n",
    "\n",
    "from matplotlib import pyplot as plt \n",
    "import seaborn as sns "
   ]
  },
  {
   "cell_type": "code",
   "execution_count": null,
   "id": "3516a217-72d5-4ded-9143-2d2a34ae8c16",
   "metadata": {},
   "outputs": [],
   "source": [
    "PATH_TO_TRAIN = 'train.csv'\n",
    "PATH_TO_TEST = 'test.csv'"
   ]
  },
  {
   "cell_type": "code",
   "execution_count": null,
   "id": "fb5d36da-2325-46da-adfd-9c3d2106cff9",
   "metadata": {},
   "outputs": [],
   "source": [
    "train = pd.read_csv(PATH_TO_TRAIN, index_col='PassengerId')\n",
    "test = pd.read_csv(PATH_TO_TEST, index_col='PassengerId')"
   ]
  },
  {
   "cell_type": "code",
   "execution_count": null,
   "id": "49552d87-0f33-4bd3-ab99-8052476a621b",
   "metadata": {},
   "outputs": [],
   "source": [
    "train"
   ]
  }
 ],
 "metadata": {
  "kernelspec": {
   "display_name": "Python 3 (ipykernel)",
   "language": "python",
   "name": "python3"
  },
  "language_info": {
   "codemirror_mode": {
    "name": "ipython",
    "version": 3
   },
   "file_extension": ".py",
   "mimetype": "text/x-python",
   "name": "python",
   "nbconvert_exporter": "python",
   "pygments_lexer": "ipython3",
   "version": "3.11.7"
  }
 },
 "nbformat": 4,
 "nbformat_minor": 5
}
